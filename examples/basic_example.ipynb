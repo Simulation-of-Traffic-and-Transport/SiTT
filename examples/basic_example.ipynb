{
 "cells": [
  {
   "cell_type": "markdown",
   "source": [
    "# Si.T.T. Basic Example\n",
    "\n",
    "In this notebook, we will explore the basic features of Si.T.T. and show how to make the platform work on a basic level.\n",
    "\n",
    "## Installing Si.T.T.\n",
    "\n",
    "First, we need to integrate the Python library. Note, you need to install the required Python packages, first. A common way to do this is to use pip (search the Web for venv, Conda etc. for specific environments).\n",
    "\n",
    "### Option 1: Local Install\n",
    "\n",
    "If you have downloaded the source of Si.T.T. and run this notebook locally, then you can simply install from the local directory:"
   ],
   "metadata": {
    "collapsed": false
   }
  },
  {
   "cell_type": "code",
   "execution_count": null,
   "outputs": [],
   "source": [
    "!pip install -e .."
   ],
   "metadata": {
    "collapsed": false
   }
  },
  {
   "cell_type": "markdown",
   "source": [
    "### Option 2: Build Wheel and Install\n",
    "\n",
    "You can also build a Wheel file and install that in some place. You also need the source code of Si.T.T. Run the following in the base directory:"
   ],
   "metadata": {
    "collapsed": false
   }
  },
  {
   "cell_type": "code",
   "execution_count": null,
   "outputs": [],
   "source": [
    "!python3 -m build\n",
    "!pip install dist/sitt-0.0.1-py3-none-any.whl"
   ],
   "metadata": {
    "collapsed": false
   }
  },
  {
   "cell_type": "markdown",
   "source": [
    "### Option 3: Install from Repository\n",
    "\n",
    "TODO: This will be possible in the future."
   ],
   "metadata": {
    "collapsed": false
   }
  },
  {
   "cell_type": "markdown",
   "source": [
    "### Uninstalling Si.T.T.\n",
    "\n",
    "Run pip uninstall:"
   ],
   "metadata": {
    "collapsed": false
   }
  },
  {
   "cell_type": "code",
   "execution_count": null,
   "outputs": [],
   "source": [
    "!pip uninstall -y sitt"
   ],
   "metadata": {
    "collapsed": false
   }
  },
  {
   "cell_type": "markdown",
   "source": [
    "## Basic Usage\n",
    "\n",
    "After you have installed Si.T.T., you can import the library:"
   ],
   "metadata": {
    "collapsed": false
   }
  },
  {
   "cell_type": "code",
   "execution_count": null,
   "outputs": [],
   "source": [
    "import sitt"
   ],
   "metadata": {
    "collapsed": false
   }
  },
  {
   "cell_type": "code",
   "execution_count": null,
   "outputs": [],
   "source": [],
   "metadata": {
    "collapsed": false
   }
  }
 ],
 "metadata": {
  "kernelspec": {
   "display_name": "Python 3",
   "language": "python",
   "name": "python3"
  },
  "language_info": {
   "codemirror_mode": {
    "name": "ipython",
    "version": 2
   },
   "file_extension": ".py",
   "mimetype": "text/x-python",
   "name": "python",
   "nbconvert_exporter": "python",
   "pygments_lexer": "ipython2",
   "version": "2.7.6"
  }
 },
 "nbformat": 4,
 "nbformat_minor": 0
}
